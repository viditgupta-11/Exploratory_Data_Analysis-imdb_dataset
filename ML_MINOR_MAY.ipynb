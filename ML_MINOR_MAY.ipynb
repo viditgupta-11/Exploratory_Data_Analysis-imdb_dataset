{
  "nbformat": 4,
  "nbformat_minor": 0,
  "metadata": {
    "colab": {
      "name": "ML-MINOR-MAY-Vidit_Gupta.ipynb",
      "provenance": []
    },
    "kernelspec": {
      "name": "python3",
      "display_name": "Python 3"
    }
  },
  "cells": [
    {
      "cell_type": "code",
      "metadata": {
        "id": "l472NKW526Nb",
        "colab_type": "code",
        "colab": {}
      },
      "source": [
        "import numpy as np\n",
        "import pandas as pd"
      ],
      "execution_count": 3,
      "outputs": []
    },
    {
      "cell_type": "code",
      "metadata": {
        "id": "cRHZO2mR3ELS",
        "colab_type": "code",
        "colab": {
          "resources": {
            "http://localhost:8080/nbextensions/google.colab/files.js": {
              "data": "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",
              "ok": true,
              "headers": [
                [
                  "content-type",
                  "application/javascript"
                ]
              ],
              "status": 200,
              "status_text": ""
            }
          },
          "base_uri": "https://localhost:8080/",
          "height": 73
        },
        "outputId": "24856104-afcf-4c2a-d868-3a4c849cb2f8"
      },
      "source": [
        "from google.colab import files\n",
        "uploaded=files.upload()"
      ],
      "execution_count": 2,
      "outputs": [
        {
          "output_type": "display_data",
          "data": {
            "text/html": [
              "\n",
              "     <input type=\"file\" id=\"files-899c37b9-b30e-4250-aef4-025cb574853a\" name=\"files[]\" multiple disabled\n",
              "        style=\"border:none\" />\n",
              "     <output id=\"result-899c37b9-b30e-4250-aef4-025cb574853a\">\n",
              "      Upload widget is only available when the cell has been executed in the\n",
              "      current browser session. Please rerun this cell to enable.\n",
              "      </output>\n",
              "      <script src=\"/nbextensions/google.colab/files.js\"></script> "
            ],
            "text/plain": [
              "<IPython.core.display.HTML object>"
            ]
          },
          "metadata": {
            "tags": []
          }
        },
        {
          "output_type": "stream",
          "text": [
            "Saving tmdb-movies.csv to tmdb-movies.csv\n"
          ],
          "name": "stdout"
        }
      ]
    },
    {
      "cell_type": "code",
      "metadata": {
        "id": "fHoPWEGM3Osf",
        "colab_type": "code",
        "colab": {}
      },
      "source": [
        "import io\n",
        "df=pd.read_csv(io.BytesIO(uploaded['tmdb-movies.csv']),encoding='utf-8')"
      ],
      "execution_count": 4,
      "outputs": []
    },
    {
      "cell_type": "code",
      "metadata": {
        "id": "BX5d4fFo5G-G",
        "colab_type": "code",
        "colab": {
          "base_uri": "https://localhost:8080/",
          "height": 487
        },
        "outputId": "0f8963de-cb3e-4544-9390-6aac5e5b6477"
      },
      "source": [
        "#concise summary of dataset\n",
        "df.info()"
      ],
      "execution_count": 5,
      "outputs": [
        {
          "output_type": "stream",
          "text": [
            "<class 'pandas.core.frame.DataFrame'>\n",
            "RangeIndex: 10866 entries, 0 to 10865\n",
            "Data columns (total 21 columns):\n",
            " #   Column                Non-Null Count  Dtype  \n",
            "---  ------                --------------  -----  \n",
            " 0   id                    10866 non-null  int64  \n",
            " 1   imdb_id               10856 non-null  object \n",
            " 2   popularity            10866 non-null  float64\n",
            " 3   budget                10866 non-null  int64  \n",
            " 4   revenue               10866 non-null  int64  \n",
            " 5   original_title        10866 non-null  object \n",
            " 6   cast                  10790 non-null  object \n",
            " 7   homepage              2936 non-null   object \n",
            " 8   director              10822 non-null  object \n",
            " 9   tagline               8042 non-null   object \n",
            " 10  keywords              9373 non-null   object \n",
            " 11  overview              10862 non-null  object \n",
            " 12  runtime               10866 non-null  int64  \n",
            " 13  genres                10843 non-null  object \n",
            " 14  production_companies  9836 non-null   object \n",
            " 15  release_date          10866 non-null  object \n",
            " 16  vote_count            10866 non-null  int64  \n",
            " 17  vote_average          10866 non-null  float64\n",
            " 18  release_year          10866 non-null  int64  \n",
            " 19  budget_adj            10866 non-null  float64\n",
            " 20  revenue_adj           10866 non-null  float64\n",
            "dtypes: float64(4), int64(6), object(11)\n",
            "memory usage: 1.7+ MB\n"
          ],
          "name": "stdout"
        }
      ]
    },
    {
      "cell_type": "code",
      "metadata": {
        "id": "EkxVs0DaCHA9",
        "colab_type": "code",
        "colab": {
          "base_uri": "https://localhost:8080/",
          "height": 602
        },
        "outputId": "f099e1f1-9a07-48ac-c5ba-f57219f7f325"
      },
      "source": [
        "#first 5 rows\n",
        "df.head()"
      ],
      "execution_count": 6,
      "outputs": [
        {
          "output_type": "execute_result",
          "data": {
            "text/html": [
              "<div>\n",
              "<style scoped>\n",
              "    .dataframe tbody tr th:only-of-type {\n",
              "        vertical-align: middle;\n",
              "    }\n",
              "\n",
              "    .dataframe tbody tr th {\n",
              "        vertical-align: top;\n",
              "    }\n",
              "\n",
              "    .dataframe thead th {\n",
              "        text-align: right;\n",
              "    }\n",
              "</style>\n",
              "<table border=\"1\" class=\"dataframe\">\n",
              "  <thead>\n",
              "    <tr style=\"text-align: right;\">\n",
              "      <th></th>\n",
              "      <th>id</th>\n",
              "      <th>imdb_id</th>\n",
              "      <th>popularity</th>\n",
              "      <th>budget</th>\n",
              "      <th>revenue</th>\n",
              "      <th>original_title</th>\n",
              "      <th>cast</th>\n",
              "      <th>homepage</th>\n",
              "      <th>director</th>\n",
              "      <th>tagline</th>\n",
              "      <th>keywords</th>\n",
              "      <th>overview</th>\n",
              "      <th>runtime</th>\n",
              "      <th>genres</th>\n",
              "      <th>production_companies</th>\n",
              "      <th>release_date</th>\n",
              "      <th>vote_count</th>\n",
              "      <th>vote_average</th>\n",
              "      <th>release_year</th>\n",
              "      <th>budget_adj</th>\n",
              "      <th>revenue_adj</th>\n",
              "    </tr>\n",
              "  </thead>\n",
              "  <tbody>\n",
              "    <tr>\n",
              "      <th>0</th>\n",
              "      <td>135397</td>\n",
              "      <td>tt0369610</td>\n",
              "      <td>32.985763</td>\n",
              "      <td>150000000</td>\n",
              "      <td>1513528810</td>\n",
              "      <td>Jurassic World</td>\n",
              "      <td>Chris Pratt|Bryce Dallas Howard|Irrfan Khan|Vi...</td>\n",
              "      <td>http://www.jurassicworld.com/</td>\n",
              "      <td>Colin Trevorrow</td>\n",
              "      <td>The park is open.</td>\n",
              "      <td>monster|dna|tyrannosaurus rex|velociraptor|island</td>\n",
              "      <td>Twenty-two years after the events of Jurassic ...</td>\n",
              "      <td>124</td>\n",
              "      <td>Action|Adventure|Science Fiction|Thriller</td>\n",
              "      <td>Universal Studios|Amblin Entertainment|Legenda...</td>\n",
              "      <td>6/9/15</td>\n",
              "      <td>5562</td>\n",
              "      <td>6.5</td>\n",
              "      <td>2015</td>\n",
              "      <td>1.379999e+08</td>\n",
              "      <td>1.392446e+09</td>\n",
              "    </tr>\n",
              "    <tr>\n",
              "      <th>1</th>\n",
              "      <td>76341</td>\n",
              "      <td>tt1392190</td>\n",
              "      <td>28.419936</td>\n",
              "      <td>150000000</td>\n",
              "      <td>378436354</td>\n",
              "      <td>Mad Max: Fury Road</td>\n",
              "      <td>Tom Hardy|Charlize Theron|Hugh Keays-Byrne|Nic...</td>\n",
              "      <td>http://www.madmaxmovie.com/</td>\n",
              "      <td>George Miller</td>\n",
              "      <td>What a Lovely Day.</td>\n",
              "      <td>future|chase|post-apocalyptic|dystopia|australia</td>\n",
              "      <td>An apocalyptic story set in the furthest reach...</td>\n",
              "      <td>120</td>\n",
              "      <td>Action|Adventure|Science Fiction|Thriller</td>\n",
              "      <td>Village Roadshow Pictures|Kennedy Miller Produ...</td>\n",
              "      <td>5/13/15</td>\n",
              "      <td>6185</td>\n",
              "      <td>7.1</td>\n",
              "      <td>2015</td>\n",
              "      <td>1.379999e+08</td>\n",
              "      <td>3.481613e+08</td>\n",
              "    </tr>\n",
              "    <tr>\n",
              "      <th>2</th>\n",
              "      <td>262500</td>\n",
              "      <td>tt2908446</td>\n",
              "      <td>13.112507</td>\n",
              "      <td>110000000</td>\n",
              "      <td>295238201</td>\n",
              "      <td>Insurgent</td>\n",
              "      <td>Shailene Woodley|Theo James|Kate Winslet|Ansel...</td>\n",
              "      <td>http://www.thedivergentseries.movie/#insurgent</td>\n",
              "      <td>Robert Schwentke</td>\n",
              "      <td>One Choice Can Destroy You</td>\n",
              "      <td>based on novel|revolution|dystopia|sequel|dyst...</td>\n",
              "      <td>Beatrice Prior must confront her inner demons ...</td>\n",
              "      <td>119</td>\n",
              "      <td>Adventure|Science Fiction|Thriller</td>\n",
              "      <td>Summit Entertainment|Mandeville Films|Red Wago...</td>\n",
              "      <td>3/18/15</td>\n",
              "      <td>2480</td>\n",
              "      <td>6.3</td>\n",
              "      <td>2015</td>\n",
              "      <td>1.012000e+08</td>\n",
              "      <td>2.716190e+08</td>\n",
              "    </tr>\n",
              "    <tr>\n",
              "      <th>3</th>\n",
              "      <td>140607</td>\n",
              "      <td>tt2488496</td>\n",
              "      <td>11.173104</td>\n",
              "      <td>200000000</td>\n",
              "      <td>2068178225</td>\n",
              "      <td>Star Wars: The Force Awakens</td>\n",
              "      <td>Harrison Ford|Mark Hamill|Carrie Fisher|Adam D...</td>\n",
              "      <td>http://www.starwars.com/films/star-wars-episod...</td>\n",
              "      <td>J.J. Abrams</td>\n",
              "      <td>Every generation has a story.</td>\n",
              "      <td>android|spaceship|jedi|space opera|3d</td>\n",
              "      <td>Thirty years after defeating the Galactic Empi...</td>\n",
              "      <td>136</td>\n",
              "      <td>Action|Adventure|Science Fiction|Fantasy</td>\n",
              "      <td>Lucasfilm|Truenorth Productions|Bad Robot</td>\n",
              "      <td>12/15/15</td>\n",
              "      <td>5292</td>\n",
              "      <td>7.5</td>\n",
              "      <td>2015</td>\n",
              "      <td>1.839999e+08</td>\n",
              "      <td>1.902723e+09</td>\n",
              "    </tr>\n",
              "    <tr>\n",
              "      <th>4</th>\n",
              "      <td>168259</td>\n",
              "      <td>tt2820852</td>\n",
              "      <td>9.335014</td>\n",
              "      <td>190000000</td>\n",
              "      <td>1506249360</td>\n",
              "      <td>Furious 7</td>\n",
              "      <td>Vin Diesel|Paul Walker|Jason Statham|Michelle ...</td>\n",
              "      <td>http://www.furious7.com/</td>\n",
              "      <td>James Wan</td>\n",
              "      <td>Vengeance Hits Home</td>\n",
              "      <td>car race|speed|revenge|suspense|car</td>\n",
              "      <td>Deckard Shaw seeks revenge against Dominic Tor...</td>\n",
              "      <td>137</td>\n",
              "      <td>Action|Crime|Thriller</td>\n",
              "      <td>Universal Pictures|Original Film|Media Rights ...</td>\n",
              "      <td>4/1/15</td>\n",
              "      <td>2947</td>\n",
              "      <td>7.3</td>\n",
              "      <td>2015</td>\n",
              "      <td>1.747999e+08</td>\n",
              "      <td>1.385749e+09</td>\n",
              "    </tr>\n",
              "  </tbody>\n",
              "</table>\n",
              "</div>"
            ],
            "text/plain": [
              "       id    imdb_id  popularity  ...  release_year    budget_adj   revenue_adj\n",
              "0  135397  tt0369610   32.985763  ...          2015  1.379999e+08  1.392446e+09\n",
              "1   76341  tt1392190   28.419936  ...          2015  1.379999e+08  3.481613e+08\n",
              "2  262500  tt2908446   13.112507  ...          2015  1.012000e+08  2.716190e+08\n",
              "3  140607  tt2488496   11.173104  ...          2015  1.839999e+08  1.902723e+09\n",
              "4  168259  tt2820852    9.335014  ...          2015  1.747999e+08  1.385749e+09\n",
              "\n",
              "[5 rows x 21 columns]"
            ]
          },
          "metadata": {
            "tags": []
          },
          "execution_count": 6
        }
      ]
    },
    {
      "cell_type": "code",
      "metadata": {
        "id": "lJaDcTn5-KxG",
        "colab_type": "code",
        "colab": {
          "base_uri": "https://localhost:8080/",
          "height": 618
        },
        "outputId": "718557b3-6ddf-4886-817f-dd5dce70329f"
      },
      "source": [
        "#last 5 rows\n",
        "df.tail()"
      ],
      "execution_count": 7,
      "outputs": [
        {
          "output_type": "execute_result",
          "data": {
            "text/html": [
              "<div>\n",
              "<style scoped>\n",
              "    .dataframe tbody tr th:only-of-type {\n",
              "        vertical-align: middle;\n",
              "    }\n",
              "\n",
              "    .dataframe tbody tr th {\n",
              "        vertical-align: top;\n",
              "    }\n",
              "\n",
              "    .dataframe thead th {\n",
              "        text-align: right;\n",
              "    }\n",
              "</style>\n",
              "<table border=\"1\" class=\"dataframe\">\n",
              "  <thead>\n",
              "    <tr style=\"text-align: right;\">\n",
              "      <th></th>\n",
              "      <th>id</th>\n",
              "      <th>imdb_id</th>\n",
              "      <th>popularity</th>\n",
              "      <th>budget</th>\n",
              "      <th>revenue</th>\n",
              "      <th>original_title</th>\n",
              "      <th>cast</th>\n",
              "      <th>homepage</th>\n",
              "      <th>director</th>\n",
              "      <th>tagline</th>\n",
              "      <th>keywords</th>\n",
              "      <th>overview</th>\n",
              "      <th>runtime</th>\n",
              "      <th>genres</th>\n",
              "      <th>production_companies</th>\n",
              "      <th>release_date</th>\n",
              "      <th>vote_count</th>\n",
              "      <th>vote_average</th>\n",
              "      <th>release_year</th>\n",
              "      <th>budget_adj</th>\n",
              "      <th>revenue_adj</th>\n",
              "    </tr>\n",
              "  </thead>\n",
              "  <tbody>\n",
              "    <tr>\n",
              "      <th>10861</th>\n",
              "      <td>21</td>\n",
              "      <td>tt0060371</td>\n",
              "      <td>0.080598</td>\n",
              "      <td>0</td>\n",
              "      <td>0</td>\n",
              "      <td>The Endless Summer</td>\n",
              "      <td>Michael Hynson|Robert August|Lord 'Tally Ho' B...</td>\n",
              "      <td>NaN</td>\n",
              "      <td>Bruce Brown</td>\n",
              "      <td>NaN</td>\n",
              "      <td>surfer|surfboard|surfing</td>\n",
              "      <td>The Endless Summer, by Bruce Brown, is one of ...</td>\n",
              "      <td>95</td>\n",
              "      <td>Documentary</td>\n",
              "      <td>Bruce Brown Films</td>\n",
              "      <td>6/15/66</td>\n",
              "      <td>11</td>\n",
              "      <td>7.4</td>\n",
              "      <td>1966</td>\n",
              "      <td>0.000000</td>\n",
              "      <td>0.0</td>\n",
              "    </tr>\n",
              "    <tr>\n",
              "      <th>10862</th>\n",
              "      <td>20379</td>\n",
              "      <td>tt0060472</td>\n",
              "      <td>0.065543</td>\n",
              "      <td>0</td>\n",
              "      <td>0</td>\n",
              "      <td>Grand Prix</td>\n",
              "      <td>James Garner|Eva Marie Saint|Yves Montand|Tosh...</td>\n",
              "      <td>NaN</td>\n",
              "      <td>John Frankenheimer</td>\n",
              "      <td>Cinerama sweeps YOU into a drama of speed and ...</td>\n",
              "      <td>car race|racing|formula 1</td>\n",
              "      <td>Grand Prix driver Pete Aron is fired by his te...</td>\n",
              "      <td>176</td>\n",
              "      <td>Action|Adventure|Drama</td>\n",
              "      <td>Cherokee Productions|Joel Productions|Douglas ...</td>\n",
              "      <td>12/21/66</td>\n",
              "      <td>20</td>\n",
              "      <td>5.7</td>\n",
              "      <td>1966</td>\n",
              "      <td>0.000000</td>\n",
              "      <td>0.0</td>\n",
              "    </tr>\n",
              "    <tr>\n",
              "      <th>10863</th>\n",
              "      <td>39768</td>\n",
              "      <td>tt0060161</td>\n",
              "      <td>0.065141</td>\n",
              "      <td>0</td>\n",
              "      <td>0</td>\n",
              "      <td>Beregis Avtomobilya</td>\n",
              "      <td>Innokentiy Smoktunovskiy|Oleg Efremov|Georgi Z...</td>\n",
              "      <td>NaN</td>\n",
              "      <td>Eldar Ryazanov</td>\n",
              "      <td>NaN</td>\n",
              "      <td>car|trolley|stealing car</td>\n",
              "      <td>An insurance agent who moonlights as a carthie...</td>\n",
              "      <td>94</td>\n",
              "      <td>Mystery|Comedy</td>\n",
              "      <td>Mosfilm</td>\n",
              "      <td>1/1/66</td>\n",
              "      <td>11</td>\n",
              "      <td>6.5</td>\n",
              "      <td>1966</td>\n",
              "      <td>0.000000</td>\n",
              "      <td>0.0</td>\n",
              "    </tr>\n",
              "    <tr>\n",
              "      <th>10864</th>\n",
              "      <td>21449</td>\n",
              "      <td>tt0061177</td>\n",
              "      <td>0.064317</td>\n",
              "      <td>0</td>\n",
              "      <td>0</td>\n",
              "      <td>What's Up, Tiger Lily?</td>\n",
              "      <td>Tatsuya Mihashi|Akiko Wakabayashi|Mie Hama|Joh...</td>\n",
              "      <td>NaN</td>\n",
              "      <td>Woody Allen</td>\n",
              "      <td>WOODY ALLEN STRIKES BACK!</td>\n",
              "      <td>spoof</td>\n",
              "      <td>In comic Woody Allen's film debut, he took the...</td>\n",
              "      <td>80</td>\n",
              "      <td>Action|Comedy</td>\n",
              "      <td>Benedict Pictures Corp.</td>\n",
              "      <td>11/2/66</td>\n",
              "      <td>22</td>\n",
              "      <td>5.4</td>\n",
              "      <td>1966</td>\n",
              "      <td>0.000000</td>\n",
              "      <td>0.0</td>\n",
              "    </tr>\n",
              "    <tr>\n",
              "      <th>10865</th>\n",
              "      <td>22293</td>\n",
              "      <td>tt0060666</td>\n",
              "      <td>0.035919</td>\n",
              "      <td>19000</td>\n",
              "      <td>0</td>\n",
              "      <td>Manos: The Hands of Fate</td>\n",
              "      <td>Harold P. Warren|Tom Neyman|John Reynolds|Dian...</td>\n",
              "      <td>NaN</td>\n",
              "      <td>Harold P. Warren</td>\n",
              "      <td>It's Shocking! It's Beyond Your Imagination!</td>\n",
              "      <td>fire|gun|drive|sacrifice|flashlight</td>\n",
              "      <td>A family gets lost on the road and stumbles up...</td>\n",
              "      <td>74</td>\n",
              "      <td>Horror</td>\n",
              "      <td>Norm-Iris</td>\n",
              "      <td>11/15/66</td>\n",
              "      <td>15</td>\n",
              "      <td>1.5</td>\n",
              "      <td>1966</td>\n",
              "      <td>127642.279154</td>\n",
              "      <td>0.0</td>\n",
              "    </tr>\n",
              "  </tbody>\n",
              "</table>\n",
              "</div>"
            ],
            "text/plain": [
              "          id    imdb_id  popularity  ...  release_year     budget_adj revenue_adj\n",
              "10861     21  tt0060371    0.080598  ...          1966       0.000000         0.0\n",
              "10862  20379  tt0060472    0.065543  ...          1966       0.000000         0.0\n",
              "10863  39768  tt0060161    0.065141  ...          1966       0.000000         0.0\n",
              "10864  21449  tt0061177    0.064317  ...          1966       0.000000         0.0\n",
              "10865  22293  tt0060666    0.035919  ...          1966  127642.279154         0.0\n",
              "\n",
              "[5 rows x 21 columns]"
            ]
          },
          "metadata": {
            "tags": []
          },
          "execution_count": 7
        }
      ]
    },
    {
      "cell_type": "markdown",
      "metadata": {
        "id": "PFph3QV14lZe",
        "colab_type": "text"
      },
      "source": [
        "**Observation**\n",
        "\n",
        "\n",
        "*   Currency for 'budget','revenue','budget_adj' and 'revenue_adj' can be assumed to be in US dollars. \n",
        "*   There are entries where budget and revenue have '0' value.\n",
        "\n"
      ]
    },
    {
      "cell_type": "code",
      "metadata": {
        "id": "Kuk72XVm-dtF",
        "colab_type": "code",
        "colab": {
          "base_uri": "https://localhost:8080/",
          "height": 284
        },
        "outputId": "e2b50edf-b48e-45cd-aa3d-389f72e28783"
      },
      "source": [
        "#summary of dataset\n",
        "df.describe()"
      ],
      "execution_count": 8,
      "outputs": [
        {
          "output_type": "execute_result",
          "data": {
            "text/html": [
              "<div>\n",
              "<style scoped>\n",
              "    .dataframe tbody tr th:only-of-type {\n",
              "        vertical-align: middle;\n",
              "    }\n",
              "\n",
              "    .dataframe tbody tr th {\n",
              "        vertical-align: top;\n",
              "    }\n",
              "\n",
              "    .dataframe thead th {\n",
              "        text-align: right;\n",
              "    }\n",
              "</style>\n",
              "<table border=\"1\" class=\"dataframe\">\n",
              "  <thead>\n",
              "    <tr style=\"text-align: right;\">\n",
              "      <th></th>\n",
              "      <th>id</th>\n",
              "      <th>popularity</th>\n",
              "      <th>budget</th>\n",
              "      <th>revenue</th>\n",
              "      <th>runtime</th>\n",
              "      <th>vote_count</th>\n",
              "      <th>vote_average</th>\n",
              "      <th>release_year</th>\n",
              "      <th>budget_adj</th>\n",
              "      <th>revenue_adj</th>\n",
              "    </tr>\n",
              "  </thead>\n",
              "  <tbody>\n",
              "    <tr>\n",
              "      <th>count</th>\n",
              "      <td>10866.000000</td>\n",
              "      <td>10866.000000</td>\n",
              "      <td>1.086600e+04</td>\n",
              "      <td>1.086600e+04</td>\n",
              "      <td>10866.000000</td>\n",
              "      <td>10866.000000</td>\n",
              "      <td>10866.000000</td>\n",
              "      <td>10866.000000</td>\n",
              "      <td>1.086600e+04</td>\n",
              "      <td>1.086600e+04</td>\n",
              "    </tr>\n",
              "    <tr>\n",
              "      <th>mean</th>\n",
              "      <td>66064.177434</td>\n",
              "      <td>0.646441</td>\n",
              "      <td>1.462570e+07</td>\n",
              "      <td>3.982332e+07</td>\n",
              "      <td>102.070863</td>\n",
              "      <td>217.389748</td>\n",
              "      <td>5.974922</td>\n",
              "      <td>2001.322658</td>\n",
              "      <td>1.755104e+07</td>\n",
              "      <td>5.136436e+07</td>\n",
              "    </tr>\n",
              "    <tr>\n",
              "      <th>std</th>\n",
              "      <td>92130.136561</td>\n",
              "      <td>1.000185</td>\n",
              "      <td>3.091321e+07</td>\n",
              "      <td>1.170035e+08</td>\n",
              "      <td>31.381405</td>\n",
              "      <td>575.619058</td>\n",
              "      <td>0.935142</td>\n",
              "      <td>12.812941</td>\n",
              "      <td>3.430616e+07</td>\n",
              "      <td>1.446325e+08</td>\n",
              "    </tr>\n",
              "    <tr>\n",
              "      <th>min</th>\n",
              "      <td>5.000000</td>\n",
              "      <td>0.000065</td>\n",
              "      <td>0.000000e+00</td>\n",
              "      <td>0.000000e+00</td>\n",
              "      <td>0.000000</td>\n",
              "      <td>10.000000</td>\n",
              "      <td>1.500000</td>\n",
              "      <td>1960.000000</td>\n",
              "      <td>0.000000e+00</td>\n",
              "      <td>0.000000e+00</td>\n",
              "    </tr>\n",
              "    <tr>\n",
              "      <th>25%</th>\n",
              "      <td>10596.250000</td>\n",
              "      <td>0.207583</td>\n",
              "      <td>0.000000e+00</td>\n",
              "      <td>0.000000e+00</td>\n",
              "      <td>90.000000</td>\n",
              "      <td>17.000000</td>\n",
              "      <td>5.400000</td>\n",
              "      <td>1995.000000</td>\n",
              "      <td>0.000000e+00</td>\n",
              "      <td>0.000000e+00</td>\n",
              "    </tr>\n",
              "    <tr>\n",
              "      <th>50%</th>\n",
              "      <td>20669.000000</td>\n",
              "      <td>0.383856</td>\n",
              "      <td>0.000000e+00</td>\n",
              "      <td>0.000000e+00</td>\n",
              "      <td>99.000000</td>\n",
              "      <td>38.000000</td>\n",
              "      <td>6.000000</td>\n",
              "      <td>2006.000000</td>\n",
              "      <td>0.000000e+00</td>\n",
              "      <td>0.000000e+00</td>\n",
              "    </tr>\n",
              "    <tr>\n",
              "      <th>75%</th>\n",
              "      <td>75610.000000</td>\n",
              "      <td>0.713817</td>\n",
              "      <td>1.500000e+07</td>\n",
              "      <td>2.400000e+07</td>\n",
              "      <td>111.000000</td>\n",
              "      <td>145.750000</td>\n",
              "      <td>6.600000</td>\n",
              "      <td>2011.000000</td>\n",
              "      <td>2.085325e+07</td>\n",
              "      <td>3.369710e+07</td>\n",
              "    </tr>\n",
              "    <tr>\n",
              "      <th>max</th>\n",
              "      <td>417859.000000</td>\n",
              "      <td>32.985763</td>\n",
              "      <td>4.250000e+08</td>\n",
              "      <td>2.781506e+09</td>\n",
              "      <td>900.000000</td>\n",
              "      <td>9767.000000</td>\n",
              "      <td>9.200000</td>\n",
              "      <td>2015.000000</td>\n",
              "      <td>4.250000e+08</td>\n",
              "      <td>2.827124e+09</td>\n",
              "    </tr>\n",
              "  </tbody>\n",
              "</table>\n",
              "</div>"
            ],
            "text/plain": [
              "                  id    popularity  ...    budget_adj   revenue_adj\n",
              "count   10866.000000  10866.000000  ...  1.086600e+04  1.086600e+04\n",
              "mean    66064.177434      0.646441  ...  1.755104e+07  5.136436e+07\n",
              "std     92130.136561      1.000185  ...  3.430616e+07  1.446325e+08\n",
              "min         5.000000      0.000065  ...  0.000000e+00  0.000000e+00\n",
              "25%     10596.250000      0.207583  ...  0.000000e+00  0.000000e+00\n",
              "50%     20669.000000      0.383856  ...  0.000000e+00  0.000000e+00\n",
              "75%     75610.000000      0.713817  ...  2.085325e+07  3.369710e+07\n",
              "max    417859.000000     32.985763  ...  4.250000e+08  2.827124e+09\n",
              "\n",
              "[8 rows x 10 columns]"
            ]
          },
          "metadata": {
            "tags": []
          },
          "execution_count": 8
        }
      ]
    },
    {
      "cell_type": "code",
      "metadata": {
        "id": "-YXn3_13_swd",
        "colab_type": "code",
        "colab": {
          "base_uri": "https://localhost:8080/",
          "height": 386
        },
        "outputId": "f2871e54-f16a-4047-ea27-d36440352d56"
      },
      "source": [
        "#count of null values\n",
        "df.isna().sum()"
      ],
      "execution_count": 9,
      "outputs": [
        {
          "output_type": "execute_result",
          "data": {
            "text/plain": [
              "id                         0\n",
              "imdb_id                   10\n",
              "popularity                 0\n",
              "budget                     0\n",
              "revenue                    0\n",
              "original_title             0\n",
              "cast                      76\n",
              "homepage                7930\n",
              "director                  44\n",
              "tagline                 2824\n",
              "keywords                1493\n",
              "overview                   4\n",
              "runtime                    0\n",
              "genres                    23\n",
              "production_companies    1030\n",
              "release_date               0\n",
              "vote_count                 0\n",
              "vote_average               0\n",
              "release_year               0\n",
              "budget_adj                 0\n",
              "revenue_adj                0\n",
              "dtype: int64"
            ]
          },
          "metadata": {
            "tags": []
          },
          "execution_count": 9
        }
      ]
    },
    {
      "cell_type": "code",
      "metadata": {
        "id": "kvundpBfDFYu",
        "colab_type": "code",
        "colab": {
          "base_uri": "https://localhost:8080/",
          "height": 1000
        },
        "outputId": "b7f57cbb-e558-4fc2-94f1-e60d37c7bf9c"
      },
      "source": [
        "#filling the null values with 0\n",
        "df.fillna(0)"
      ],
      "execution_count": 10,
      "outputs": [
        {
          "output_type": "execute_result",
          "data": {
            "text/html": [
              "<div>\n",
              "<style scoped>\n",
              "    .dataframe tbody tr th:only-of-type {\n",
              "        vertical-align: middle;\n",
              "    }\n",
              "\n",
              "    .dataframe tbody tr th {\n",
              "        vertical-align: top;\n",
              "    }\n",
              "\n",
              "    .dataframe thead th {\n",
              "        text-align: right;\n",
              "    }\n",
              "</style>\n",
              "<table border=\"1\" class=\"dataframe\">\n",
              "  <thead>\n",
              "    <tr style=\"text-align: right;\">\n",
              "      <th></th>\n",
              "      <th>id</th>\n",
              "      <th>imdb_id</th>\n",
              "      <th>popularity</th>\n",
              "      <th>budget</th>\n",
              "      <th>revenue</th>\n",
              "      <th>original_title</th>\n",
              "      <th>cast</th>\n",
              "      <th>homepage</th>\n",
              "      <th>director</th>\n",
              "      <th>tagline</th>\n",
              "      <th>keywords</th>\n",
              "      <th>overview</th>\n",
              "      <th>runtime</th>\n",
              "      <th>genres</th>\n",
              "      <th>production_companies</th>\n",
              "      <th>release_date</th>\n",
              "      <th>vote_count</th>\n",
              "      <th>vote_average</th>\n",
              "      <th>release_year</th>\n",
              "      <th>budget_adj</th>\n",
              "      <th>revenue_adj</th>\n",
              "    </tr>\n",
              "  </thead>\n",
              "  <tbody>\n",
              "    <tr>\n",
              "      <th>0</th>\n",
              "      <td>135397</td>\n",
              "      <td>tt0369610</td>\n",
              "      <td>32.985763</td>\n",
              "      <td>150000000</td>\n",
              "      <td>1513528810</td>\n",
              "      <td>Jurassic World</td>\n",
              "      <td>Chris Pratt|Bryce Dallas Howard|Irrfan Khan|Vi...</td>\n",
              "      <td>http://www.jurassicworld.com/</td>\n",
              "      <td>Colin Trevorrow</td>\n",
              "      <td>The park is open.</td>\n",
              "      <td>monster|dna|tyrannosaurus rex|velociraptor|island</td>\n",
              "      <td>Twenty-two years after the events of Jurassic ...</td>\n",
              "      <td>124</td>\n",
              "      <td>Action|Adventure|Science Fiction|Thriller</td>\n",
              "      <td>Universal Studios|Amblin Entertainment|Legenda...</td>\n",
              "      <td>6/9/15</td>\n",
              "      <td>5562</td>\n",
              "      <td>6.5</td>\n",
              "      <td>2015</td>\n",
              "      <td>1.379999e+08</td>\n",
              "      <td>1.392446e+09</td>\n",
              "    </tr>\n",
              "    <tr>\n",
              "      <th>1</th>\n",
              "      <td>76341</td>\n",
              "      <td>tt1392190</td>\n",
              "      <td>28.419936</td>\n",
              "      <td>150000000</td>\n",
              "      <td>378436354</td>\n",
              "      <td>Mad Max: Fury Road</td>\n",
              "      <td>Tom Hardy|Charlize Theron|Hugh Keays-Byrne|Nic...</td>\n",
              "      <td>http://www.madmaxmovie.com/</td>\n",
              "      <td>George Miller</td>\n",
              "      <td>What a Lovely Day.</td>\n",
              "      <td>future|chase|post-apocalyptic|dystopia|australia</td>\n",
              "      <td>An apocalyptic story set in the furthest reach...</td>\n",
              "      <td>120</td>\n",
              "      <td>Action|Adventure|Science Fiction|Thriller</td>\n",
              "      <td>Village Roadshow Pictures|Kennedy Miller Produ...</td>\n",
              "      <td>5/13/15</td>\n",
              "      <td>6185</td>\n",
              "      <td>7.1</td>\n",
              "      <td>2015</td>\n",
              "      <td>1.379999e+08</td>\n",
              "      <td>3.481613e+08</td>\n",
              "    </tr>\n",
              "    <tr>\n",
              "      <th>2</th>\n",
              "      <td>262500</td>\n",
              "      <td>tt2908446</td>\n",
              "      <td>13.112507</td>\n",
              "      <td>110000000</td>\n",
              "      <td>295238201</td>\n",
              "      <td>Insurgent</td>\n",
              "      <td>Shailene Woodley|Theo James|Kate Winslet|Ansel...</td>\n",
              "      <td>http://www.thedivergentseries.movie/#insurgent</td>\n",
              "      <td>Robert Schwentke</td>\n",
              "      <td>One Choice Can Destroy You</td>\n",
              "      <td>based on novel|revolution|dystopia|sequel|dyst...</td>\n",
              "      <td>Beatrice Prior must confront her inner demons ...</td>\n",
              "      <td>119</td>\n",
              "      <td>Adventure|Science Fiction|Thriller</td>\n",
              "      <td>Summit Entertainment|Mandeville Films|Red Wago...</td>\n",
              "      <td>3/18/15</td>\n",
              "      <td>2480</td>\n",
              "      <td>6.3</td>\n",
              "      <td>2015</td>\n",
              "      <td>1.012000e+08</td>\n",
              "      <td>2.716190e+08</td>\n",
              "    </tr>\n",
              "    <tr>\n",
              "      <th>3</th>\n",
              "      <td>140607</td>\n",
              "      <td>tt2488496</td>\n",
              "      <td>11.173104</td>\n",
              "      <td>200000000</td>\n",
              "      <td>2068178225</td>\n",
              "      <td>Star Wars: The Force Awakens</td>\n",
              "      <td>Harrison Ford|Mark Hamill|Carrie Fisher|Adam D...</td>\n",
              "      <td>http://www.starwars.com/films/star-wars-episod...</td>\n",
              "      <td>J.J. Abrams</td>\n",
              "      <td>Every generation has a story.</td>\n",
              "      <td>android|spaceship|jedi|space opera|3d</td>\n",
              "      <td>Thirty years after defeating the Galactic Empi...</td>\n",
              "      <td>136</td>\n",
              "      <td>Action|Adventure|Science Fiction|Fantasy</td>\n",
              "      <td>Lucasfilm|Truenorth Productions|Bad Robot</td>\n",
              "      <td>12/15/15</td>\n",
              "      <td>5292</td>\n",
              "      <td>7.5</td>\n",
              "      <td>2015</td>\n",
              "      <td>1.839999e+08</td>\n",
              "      <td>1.902723e+09</td>\n",
              "    </tr>\n",
              "    <tr>\n",
              "      <th>4</th>\n",
              "      <td>168259</td>\n",
              "      <td>tt2820852</td>\n",
              "      <td>9.335014</td>\n",
              "      <td>190000000</td>\n",
              "      <td>1506249360</td>\n",
              "      <td>Furious 7</td>\n",
              "      <td>Vin Diesel|Paul Walker|Jason Statham|Michelle ...</td>\n",
              "      <td>http://www.furious7.com/</td>\n",
              "      <td>James Wan</td>\n",
              "      <td>Vengeance Hits Home</td>\n",
              "      <td>car race|speed|revenge|suspense|car</td>\n",
              "      <td>Deckard Shaw seeks revenge against Dominic Tor...</td>\n",
              "      <td>137</td>\n",
              "      <td>Action|Crime|Thriller</td>\n",
              "      <td>Universal Pictures|Original Film|Media Rights ...</td>\n",
              "      <td>4/1/15</td>\n",
              "      <td>2947</td>\n",
              "      <td>7.3</td>\n",
              "      <td>2015</td>\n",
              "      <td>1.747999e+08</td>\n",
              "      <td>1.385749e+09</td>\n",
              "    </tr>\n",
              "    <tr>\n",
              "      <th>...</th>\n",
              "      <td>...</td>\n",
              "      <td>...</td>\n",
              "      <td>...</td>\n",
              "      <td>...</td>\n",
              "      <td>...</td>\n",
              "      <td>...</td>\n",
              "      <td>...</td>\n",
              "      <td>...</td>\n",
              "      <td>...</td>\n",
              "      <td>...</td>\n",
              "      <td>...</td>\n",
              "      <td>...</td>\n",
              "      <td>...</td>\n",
              "      <td>...</td>\n",
              "      <td>...</td>\n",
              "      <td>...</td>\n",
              "      <td>...</td>\n",
              "      <td>...</td>\n",
              "      <td>...</td>\n",
              "      <td>...</td>\n",
              "      <td>...</td>\n",
              "    </tr>\n",
              "    <tr>\n",
              "      <th>10861</th>\n",
              "      <td>21</td>\n",
              "      <td>tt0060371</td>\n",
              "      <td>0.080598</td>\n",
              "      <td>0</td>\n",
              "      <td>0</td>\n",
              "      <td>The Endless Summer</td>\n",
              "      <td>Michael Hynson|Robert August|Lord 'Tally Ho' B...</td>\n",
              "      <td>0</td>\n",
              "      <td>Bruce Brown</td>\n",
              "      <td>0</td>\n",
              "      <td>surfer|surfboard|surfing</td>\n",
              "      <td>The Endless Summer, by Bruce Brown, is one of ...</td>\n",
              "      <td>95</td>\n",
              "      <td>Documentary</td>\n",
              "      <td>Bruce Brown Films</td>\n",
              "      <td>6/15/66</td>\n",
              "      <td>11</td>\n",
              "      <td>7.4</td>\n",
              "      <td>1966</td>\n",
              "      <td>0.000000e+00</td>\n",
              "      <td>0.000000e+00</td>\n",
              "    </tr>\n",
              "    <tr>\n",
              "      <th>10862</th>\n",
              "      <td>20379</td>\n",
              "      <td>tt0060472</td>\n",
              "      <td>0.065543</td>\n",
              "      <td>0</td>\n",
              "      <td>0</td>\n",
              "      <td>Grand Prix</td>\n",
              "      <td>James Garner|Eva Marie Saint|Yves Montand|Tosh...</td>\n",
              "      <td>0</td>\n",
              "      <td>John Frankenheimer</td>\n",
              "      <td>Cinerama sweeps YOU into a drama of speed and ...</td>\n",
              "      <td>car race|racing|formula 1</td>\n",
              "      <td>Grand Prix driver Pete Aron is fired by his te...</td>\n",
              "      <td>176</td>\n",
              "      <td>Action|Adventure|Drama</td>\n",
              "      <td>Cherokee Productions|Joel Productions|Douglas ...</td>\n",
              "      <td>12/21/66</td>\n",
              "      <td>20</td>\n",
              "      <td>5.7</td>\n",
              "      <td>1966</td>\n",
              "      <td>0.000000e+00</td>\n",
              "      <td>0.000000e+00</td>\n",
              "    </tr>\n",
              "    <tr>\n",
              "      <th>10863</th>\n",
              "      <td>39768</td>\n",
              "      <td>tt0060161</td>\n",
              "      <td>0.065141</td>\n",
              "      <td>0</td>\n",
              "      <td>0</td>\n",
              "      <td>Beregis Avtomobilya</td>\n",
              "      <td>Innokentiy Smoktunovskiy|Oleg Efremov|Georgi Z...</td>\n",
              "      <td>0</td>\n",
              "      <td>Eldar Ryazanov</td>\n",
              "      <td>0</td>\n",
              "      <td>car|trolley|stealing car</td>\n",
              "      <td>An insurance agent who moonlights as a carthie...</td>\n",
              "      <td>94</td>\n",
              "      <td>Mystery|Comedy</td>\n",
              "      <td>Mosfilm</td>\n",
              "      <td>1/1/66</td>\n",
              "      <td>11</td>\n",
              "      <td>6.5</td>\n",
              "      <td>1966</td>\n",
              "      <td>0.000000e+00</td>\n",
              "      <td>0.000000e+00</td>\n",
              "    </tr>\n",
              "    <tr>\n",
              "      <th>10864</th>\n",
              "      <td>21449</td>\n",
              "      <td>tt0061177</td>\n",
              "      <td>0.064317</td>\n",
              "      <td>0</td>\n",
              "      <td>0</td>\n",
              "      <td>What's Up, Tiger Lily?</td>\n",
              "      <td>Tatsuya Mihashi|Akiko Wakabayashi|Mie Hama|Joh...</td>\n",
              "      <td>0</td>\n",
              "      <td>Woody Allen</td>\n",
              "      <td>WOODY ALLEN STRIKES BACK!</td>\n",
              "      <td>spoof</td>\n",
              "      <td>In comic Woody Allen's film debut, he took the...</td>\n",
              "      <td>80</td>\n",
              "      <td>Action|Comedy</td>\n",
              "      <td>Benedict Pictures Corp.</td>\n",
              "      <td>11/2/66</td>\n",
              "      <td>22</td>\n",
              "      <td>5.4</td>\n",
              "      <td>1966</td>\n",
              "      <td>0.000000e+00</td>\n",
              "      <td>0.000000e+00</td>\n",
              "    </tr>\n",
              "    <tr>\n",
              "      <th>10865</th>\n",
              "      <td>22293</td>\n",
              "      <td>tt0060666</td>\n",
              "      <td>0.035919</td>\n",
              "      <td>19000</td>\n",
              "      <td>0</td>\n",
              "      <td>Manos: The Hands of Fate</td>\n",
              "      <td>Harold P. Warren|Tom Neyman|John Reynolds|Dian...</td>\n",
              "      <td>0</td>\n",
              "      <td>Harold P. Warren</td>\n",
              "      <td>It's Shocking! It's Beyond Your Imagination!</td>\n",
              "      <td>fire|gun|drive|sacrifice|flashlight</td>\n",
              "      <td>A family gets lost on the road and stumbles up...</td>\n",
              "      <td>74</td>\n",
              "      <td>Horror</td>\n",
              "      <td>Norm-Iris</td>\n",
              "      <td>11/15/66</td>\n",
              "      <td>15</td>\n",
              "      <td>1.5</td>\n",
              "      <td>1966</td>\n",
              "      <td>1.276423e+05</td>\n",
              "      <td>0.000000e+00</td>\n",
              "    </tr>\n",
              "  </tbody>\n",
              "</table>\n",
              "<p>10866 rows × 21 columns</p>\n",
              "</div>"
            ],
            "text/plain": [
              "           id    imdb_id  popularity  ...  release_year    budget_adj   revenue_adj\n",
              "0      135397  tt0369610   32.985763  ...          2015  1.379999e+08  1.392446e+09\n",
              "1       76341  tt1392190   28.419936  ...          2015  1.379999e+08  3.481613e+08\n",
              "2      262500  tt2908446   13.112507  ...          2015  1.012000e+08  2.716190e+08\n",
              "3      140607  tt2488496   11.173104  ...          2015  1.839999e+08  1.902723e+09\n",
              "4      168259  tt2820852    9.335014  ...          2015  1.747999e+08  1.385749e+09\n",
              "...       ...        ...         ...  ...           ...           ...           ...\n",
              "10861      21  tt0060371    0.080598  ...          1966  0.000000e+00  0.000000e+00\n",
              "10862   20379  tt0060472    0.065543  ...          1966  0.000000e+00  0.000000e+00\n",
              "10863   39768  tt0060161    0.065141  ...          1966  0.000000e+00  0.000000e+00\n",
              "10864   21449  tt0061177    0.064317  ...          1966  0.000000e+00  0.000000e+00\n",
              "10865   22293  tt0060666    0.035919  ...          1966  1.276423e+05  0.000000e+00\n",
              "\n",
              "[10866 rows x 21 columns]"
            ]
          },
          "metadata": {
            "tags": []
          },
          "execution_count": 10
        }
      ]
    },
    {
      "cell_type": "markdown",
      "metadata": {
        "id": "Lz4n7svR6n_g",
        "colab_type": "text"
      },
      "source": [
        "**Removing Duplicate Rows (if present)**"
      ]
    },
    {
      "cell_type": "code",
      "metadata": {
        "id": "QvIk6d2CvQaw",
        "colab_type": "code",
        "colab": {
          "base_uri": "https://localhost:8080/",
          "height": 34
        },
        "outputId": "c1e8f225-a11b-4fc5-aa70-7b1139bfa1d0"
      },
      "source": [
        "#getting count of duplicate rows\n",
        "sum(df.duplicated())"
      ],
      "execution_count": 11,
      "outputs": [
        {
          "output_type": "execute_result",
          "data": {
            "text/plain": [
              "1"
            ]
          },
          "metadata": {
            "tags": []
          },
          "execution_count": 11
        }
      ]
    },
    {
      "cell_type": "code",
      "metadata": {
        "id": "XYn1Of8cvX52",
        "colab_type": "code",
        "colab": {}
      },
      "source": [
        "#dropping duplicate rows\n",
        "df.drop_duplicates(inplace=True)"
      ],
      "execution_count": 12,
      "outputs": []
    },
    {
      "cell_type": "code",
      "metadata": {
        "id": "CHL2DHoJzuY4",
        "colab_type": "code",
        "colab": {
          "base_uri": "https://localhost:8080/",
          "height": 34
        },
        "outputId": "e0b405d7-c6cc-4280-dcf2-02446ae04b01"
      },
      "source": [
        "#new shape of dataset\n",
        "df.shape"
      ],
      "execution_count": 13,
      "outputs": [
        {
          "output_type": "execute_result",
          "data": {
            "text/plain": [
              "(10865, 21)"
            ]
          },
          "metadata": {
            "tags": []
          },
          "execution_count": 13
        }
      ]
    },
    {
      "cell_type": "markdown",
      "metadata": {
        "id": "WGdXrjVg7R41",
        "colab_type": "text"
      },
      "source": [
        "**Changing release_date into Datetime Format**"
      ]
    },
    {
      "cell_type": "code",
      "metadata": {
        "id": "DsDSHqO77P-I",
        "colab_type": "code",
        "colab": {}
      },
      "source": [
        "df['release_date']=pd.to_datetime(df['release_date'])"
      ],
      "execution_count": 14,
      "outputs": []
    },
    {
      "cell_type": "code",
      "metadata": {
        "id": "iyOjs19A7yLa",
        "colab_type": "code",
        "colab": {
          "base_uri": "https://localhost:8080/",
          "height": 118
        },
        "outputId": "9d645155-092b-4c2e-811f-9a760c02f82c"
      },
      "source": [
        "df['release_date'].head()"
      ],
      "execution_count": 15,
      "outputs": [
        {
          "output_type": "execute_result",
          "data": {
            "text/plain": [
              "0   2015-06-09\n",
              "1   2015-05-13\n",
              "2   2015-03-18\n",
              "3   2015-12-15\n",
              "4   2015-04-01\n",
              "Name: release_date, dtype: datetime64[ns]"
            ]
          },
          "metadata": {
            "tags": []
          },
          "execution_count": 15
        }
      ]
    },
    {
      "cell_type": "markdown",
      "metadata": {
        "id": "cmTiDC5-75ky",
        "colab_type": "text"
      },
      "source": [
        "**Removing unnecessary columns**\n",
        "\n",
        "Columns like imdb_id, homepage, tagline, overview, budget_adj and revenue_adj are useless."
      ]
    },
    {
      "cell_type": "code",
      "metadata": {
        "id": "E7tF5gaS71fq",
        "colab_type": "code",
        "colab": {
          "base_uri": "https://localhost:8080/",
          "height": 34
        },
        "outputId": "012f86fb-d1e4-4597-fa07-e62f7daf1e55"
      },
      "source": [
        "df.shape"
      ],
      "execution_count": 16,
      "outputs": [
        {
          "output_type": "execute_result",
          "data": {
            "text/plain": [
              "(10865, 21)"
            ]
          },
          "metadata": {
            "tags": []
          },
          "execution_count": 16
        }
      ]
    },
    {
      "cell_type": "code",
      "metadata": {
        "id": "X5AjEVeh8UP6",
        "colab_type": "code",
        "colab": {}
      },
      "source": [
        "df.drop(['imdb_id','homepage','tagline','overview','budget_adj','revenue_adj'],axis=1,inplace=True)"
      ],
      "execution_count": 17,
      "outputs": []
    },
    {
      "cell_type": "code",
      "metadata": {
        "id": "APddyErQ8qTZ",
        "colab_type": "code",
        "colab": {
          "base_uri": "https://localhost:8080/",
          "height": 34
        },
        "outputId": "1ce48571-aab9-4cc7-e376-9e3412bb3059"
      },
      "source": [
        "df.shape"
      ],
      "execution_count": 18,
      "outputs": [
        {
          "output_type": "execute_result",
          "data": {
            "text/plain": [
              "(10865, 15)"
            ]
          },
          "metadata": {
            "tags": []
          },
          "execution_count": 18
        }
      ]
    },
    {
      "cell_type": "markdown",
      "metadata": {
        "id": "vPR-mR178x5x",
        "colab_type": "text"
      },
      "source": [
        "**Dropping incorrect or inappropriate rows**\n",
        "\n",
        "Removing rows having budget value as '0' or revenue value as '0'. 0 value indicates lack of availability of data."
      ]
    },
    {
      "cell_type": "code",
      "metadata": {
        "id": "w3aenNJq83pE",
        "colab_type": "code",
        "colab": {
          "base_uri": "https://localhost:8080/",
          "height": 50
        },
        "outputId": "8f8e67ca-f262-4b90-bf2b-a8e6cb3a43d6"
      },
      "source": [
        "print(\"Rows with budget as 0:\",df[(df['budget']==0)].shape[0])\n",
        "print(\"Rows with revenue as 0:\",df[(df['revenue']==0)].shape[0])"
      ],
      "execution_count": 19,
      "outputs": [
        {
          "output_type": "stream",
          "text": [
            "Rows with budget as 0: 5696\n",
            "Rows with revenue as 0: 6016\n"
          ],
          "name": "stdout"
        }
      ]
    },
    {
      "cell_type": "code",
      "metadata": {
        "id": "rmxvslT1JXeo",
        "colab_type": "code",
        "colab": {}
      },
      "source": [
        "#replacing all 0s\n",
        "col=['budget', 'revenue']\n",
        "df[col]=df[col].replace(0,np.NaN)"
      ],
      "execution_count": 20,
      "outputs": []
    },
    {
      "cell_type": "code",
      "metadata": {
        "id": "oIXCpQZrKB86",
        "colab_type": "code",
        "colab": {}
      },
      "source": [
        "#dropping na valued rows\n",
        "df.dropna(subset=col,inplace=True)"
      ],
      "execution_count": 21,
      "outputs": []
    },
    {
      "cell_type": "code",
      "metadata": {
        "id": "OXxpTOllKJAU",
        "colab_type": "code",
        "colab": {
          "base_uri": "https://localhost:8080/",
          "height": 34
        },
        "outputId": "e5f447b3-75b3-44d3-dd1b-87136c23f49d"
      },
      "source": [
        "df.shape"
      ],
      "execution_count": 22,
      "outputs": [
        {
          "output_type": "execute_result",
          "data": {
            "text/plain": [
              "(3854, 15)"
            ]
          },
          "metadata": {
            "tags": []
          },
          "execution_count": 22
        }
      ]
    },
    {
      "cell_type": "markdown",
      "metadata": {
        "id": "Otq771Tz-aZ2",
        "colab_type": "text"
      },
      "source": [
        "**Q1:Which movie had the most profit during 2000-2005?**"
      ]
    },
    {
      "cell_type": "code",
      "metadata": {
        "id": "5PrvE3RI9zyk",
        "colab_type": "code",
        "colab": {}
      },
      "source": [
        "#creating a new column in the dataframe 'profit'\n",
        "df['profit']=df['revenue']-df['budget']"
      ],
      "execution_count": 23,
      "outputs": []
    },
    {
      "cell_type": "code",
      "metadata": {
        "id": "4GY7QdJB_ltl",
        "colab_type": "code",
        "colab": {}
      },
      "source": [
        "#getting new dataframe having movies from 2000 to 2005\n",
        "df2=df[(df['release_year']>=2000)&(df['release_year']<=2005)]"
      ],
      "execution_count": 24,
      "outputs": []
    },
    {
      "cell_type": "code",
      "metadata": {
        "id": "8XmH5i-ESH88",
        "colab_type": "code",
        "colab": {
          "base_uri": "https://localhost:8080/",
          "height": 34
        },
        "outputId": "2a92a44c-7fca-4b92-cdd3-1722b42b3c6d"
      },
      "source": [
        "#using idxmax to get max profit movie\n",
        "high_index=df2['profit'].idxmax()\n",
        "high=pd.DataFrame(df2.loc[high_index])\n",
        "print(\"Movie with maximum profit between 2000-2005:\",df2['original_title'][high_index])"
      ],
      "execution_count": 25,
      "outputs": [
        {
          "output_type": "stream",
          "text": [
            "Movie with maximum profit between 2000-2005: The Lord of the Rings: The Return of the King\n"
          ],
          "name": "stdout"
        }
      ]
    },
    {
      "cell_type": "code",
      "metadata": {
        "id": "ulC6vkooTFIp",
        "colab_type": "code",
        "colab": {
          "base_uri": "https://localhost:8080/",
          "height": 302
        },
        "outputId": "35148c0a-eb83-4be2-daae-89f207c60123"
      },
      "source": [
        "print(high)"
      ],
      "execution_count": 26,
      "outputs": [
        {
          "output_type": "stream",
          "text": [
            "                                                                   4949\n",
            "id                                                                  122\n",
            "popularity                                                      7.12246\n",
            "budget                                                          9.4e+07\n",
            "revenue                                                     1.11889e+09\n",
            "original_title            The Lord of the Rings: The Return of the King\n",
            "cast                  Elijah Wood|Ian McKellen|Viggo Mortensen|Liv T...\n",
            "director                                                  Peter Jackson\n",
            "keywords              elves|orcs|middle-earth (tolkien)|based on nov...\n",
            "runtime                                                             201\n",
            "genres                                         Adventure|Fantasy|Action\n",
            "production_companies                      WingNut Films|New Line Cinema\n",
            "release_date                                        2003-12-01 00:00:00\n",
            "vote_count                                                         5636\n",
            "vote_average                                                        7.9\n",
            "release_year                                                       2003\n",
            "profit                                                      1.02489e+09\n"
          ],
          "name": "stdout"
        }
      ]
    },
    {
      "cell_type": "markdown",
      "metadata": {
        "id": "ebc_AlLWAupx",
        "colab_type": "text"
      },
      "source": [
        "**Q2:Which are the movies with the second lowest and second highest budget?**"
      ]
    },
    {
      "cell_type": "code",
      "metadata": {
        "id": "KDiizNvjOJ8p",
        "colab_type": "code",
        "colab": {}
      },
      "source": [
        "#using sort_values command to get the second highest value\n",
        "df3=pd.DataFrame(df['budget'].sort_values(ascending=False))\n",
        "df3['original_title']=df['original_title']\n",
        "data=list(map(str,(df3['original_title'])))"
      ],
      "execution_count": 27,
      "outputs": []
    },
    {
      "cell_type": "code",
      "metadata": {
        "id": "xUFd45X-VtNC",
        "colab_type": "code",
        "colab": {}
      },
      "source": [
        "#getting second highest budget movie\n",
        "second_high=list(data[1:2])"
      ],
      "execution_count": 28,
      "outputs": []
    },
    {
      "cell_type": "code",
      "metadata": {
        "id": "4XksQJYlWxkm",
        "colab_type": "code",
        "colab": {}
      },
      "source": [
        "#using sort_values command to get the second lowest value\n",
        "df4=pd.DataFrame(df['budget'].sort_values(ascending=True))\n",
        "df4['original_title']=df['original_title']\n",
        "data2=list(map(str,(df4['original_title'])))"
      ],
      "execution_count": 29,
      "outputs": []
    },
    {
      "cell_type": "code",
      "metadata": {
        "id": "RIPaF-lgXDEa",
        "colab_type": "code",
        "colab": {}
      },
      "source": [
        "#getting second highest budget movie\n",
        "second_low=list(data2[1:2])"
      ],
      "execution_count": 30,
      "outputs": []
    },
    {
      "cell_type": "code",
      "metadata": {
        "id": "V8XQSqqJXPgJ",
        "colab_type": "code",
        "colab": {
          "base_uri": "https://localhost:8080/",
          "height": 50
        },
        "outputId": "88f4fd7b-8691-4e28-ab2b-5cc1a8e35570"
      },
      "source": [
        "print(\"Movie with second highest budget:\",second_high)\n",
        "print(\"Movie with second lowest budget:\",second_low)"
      ],
      "execution_count": 31,
      "outputs": [
        {
          "output_type": "stream",
          "text": [
            "Movie with second highest budget: ['Pirates of the Caribbean: On Stranger Tides']\n",
            "Movie with second lowest budget: ['Lost & Found']\n"
          ],
          "name": "stdout"
        }
      ]
    },
    {
      "cell_type": "markdown",
      "metadata": {
        "id": "3l9qYeu9AvTt",
        "colab_type": "text"
      },
      "source": [
        "**Q3:Which are the movies with most and least earned revenue?**"
      ]
    },
    {
      "cell_type": "code",
      "metadata": {
        "id": "RF0QKFRlA2ku",
        "colab_type": "code",
        "colab": {}
      },
      "source": [
        "#using 'idxmin' to get lowest revenue movie\n",
        "min_index=df['revenue'].idxmin()\n",
        "#using 'idxmax' to get highest revenue movie\n",
        "max_index=df['revenue'].idxmax()"
      ],
      "execution_count": 32,
      "outputs": []
    },
    {
      "cell_type": "code",
      "metadata": {
        "id": "ByWc0zA9B96m",
        "colab_type": "code",
        "colab": {}
      },
      "source": [
        "max=pd.DataFrame(df.loc[max_index])\n",
        "min=pd.DataFrame(df.loc[min_index])"
      ],
      "execution_count": 33,
      "outputs": []
    },
    {
      "cell_type": "code",
      "metadata": {
        "id": "E-Kwt05ICMgD",
        "colab_type": "code",
        "colab": {
          "base_uri": "https://localhost:8080/",
          "height": 50
        },
        "outputId": "a4c80b84-f7bc-423e-cfb0-3860499996f6"
      },
      "source": [
        "#print movie with most and least earned revenue\n",
        "print(\"Movie with most earned revenue:\",df['original_title'][max_index])\n",
        "print(\"Movie with least earned revenue:\",df['original_title'][min_index])"
      ],
      "execution_count": 34,
      "outputs": [
        {
          "output_type": "stream",
          "text": [
            "Movie with most earned revenue: Avatar\n",
            "Movie with least earned revenue: Shattered Glass\n"
          ],
          "name": "stdout"
        }
      ]
    },
    {
      "cell_type": "code",
      "metadata": {
        "id": "virSznKkCjHD",
        "colab_type": "code",
        "colab": {
          "base_uri": "https://localhost:8080/",
          "height": 302
        },
        "outputId": "3f4762bd-773b-4f24-9f89-e2f836fda2f1"
      },
      "source": [
        "info=pd.concat([max,min],axis=1)\n",
        "print(info)"
      ],
      "execution_count": 35,
      "outputs": [
        {
          "output_type": "stream",
          "text": [
            "                                                                   1386                                               5067\n",
            "id                                                                19995                                              13537\n",
            "popularity                                                      9.43277                                           0.462609\n",
            "budget                                                         2.37e+08                                              6e+06\n",
            "revenue                                                     2.78151e+09                                                  2\n",
            "original_title                                                   Avatar                                    Shattered Glass\n",
            "cast                  Sam Worthington|Zoe Saldana|Sigourney Weaver|S...  Hayden Christensen|Peter Sarsgaard|ChloÃ« Sevi...\n",
            "director                                                  James Cameron                                          Billy Ray\n",
            "keywords              culture clash|future|space war|space colony|so...                                                NaN\n",
            "runtime                                                             162                                                 94\n",
            "genres                         Action|Adventure|Fantasy|Science Fiction                                      Drama|History\n",
            "production_companies  Ingenious Film Partners|Twentieth Century Fox ...  Lions Gate Films|Cruise/Wagner Productions|Bau...\n",
            "release_date                                        2009-12-10 00:00:00                                2003-11-14 00:00:00\n",
            "vote_count                                                         8458                                                 46\n",
            "vote_average                                                        7.1                                                6.4\n",
            "release_year                                                       2009                                               2003\n",
            "profit                                                      2.54451e+09                                             -6e+06\n"
          ],
          "name": "stdout"
        }
      ]
    },
    {
      "cell_type": "markdown",
      "metadata": {
        "id": "gxvatOVxN6Sj",
        "colab_type": "text"
      },
      "source": [
        "**Q4:What is the average runtime of movies in the year 2000?**"
      ]
    },
    {
      "cell_type": "code",
      "metadata": {
        "id": "FoO0aJjALo1W",
        "colab_type": "code",
        "colab": {
          "base_uri": "https://localhost:8080/",
          "height": 501
        },
        "outputId": "2e0b0f21-5ee7-4951-a4a7-1845e1624986"
      },
      "source": [
        "#getting new dataframe having movies from the year 2000\n",
        "df4=df[(df['release_year']==2000)]\n",
        "df4.head()"
      ],
      "execution_count": 36,
      "outputs": [
        {
          "output_type": "execute_result",
          "data": {
            "text/html": [
              "<div>\n",
              "<style scoped>\n",
              "    .dataframe tbody tr th:only-of-type {\n",
              "        vertical-align: middle;\n",
              "    }\n",
              "\n",
              "    .dataframe tbody tr th {\n",
              "        vertical-align: top;\n",
              "    }\n",
              "\n",
              "    .dataframe thead th {\n",
              "        text-align: right;\n",
              "    }\n",
              "</style>\n",
              "<table border=\"1\" class=\"dataframe\">\n",
              "  <thead>\n",
              "    <tr style=\"text-align: right;\">\n",
              "      <th></th>\n",
              "      <th>id</th>\n",
              "      <th>popularity</th>\n",
              "      <th>budget</th>\n",
              "      <th>revenue</th>\n",
              "      <th>original_title</th>\n",
              "      <th>cast</th>\n",
              "      <th>director</th>\n",
              "      <th>keywords</th>\n",
              "      <th>runtime</th>\n",
              "      <th>genres</th>\n",
              "      <th>production_companies</th>\n",
              "      <th>release_date</th>\n",
              "      <th>vote_count</th>\n",
              "      <th>vote_average</th>\n",
              "      <th>release_year</th>\n",
              "      <th>profit</th>\n",
              "    </tr>\n",
              "  </thead>\n",
              "  <tbody>\n",
              "    <tr>\n",
              "      <th>8661</th>\n",
              "      <td>98</td>\n",
              "      <td>4.271452</td>\n",
              "      <td>103000000.0</td>\n",
              "      <td>457640427.0</td>\n",
              "      <td>Gladiator</td>\n",
              "      <td>Russell Crowe|Joaquin Phoenix|Connie Nielsen|O...</td>\n",
              "      <td>Ridley Scott</td>\n",
              "      <td>rome|gladiator|roman empire|slavery|battlefield</td>\n",
              "      <td>155</td>\n",
              "      <td>Action|Drama|Adventure</td>\n",
              "      <td>DreamWorks SKG|Universal Pictures|Scott Free P...</td>\n",
              "      <td>2000-05-01</td>\n",
              "      <td>3531</td>\n",
              "      <td>7.7</td>\n",
              "      <td>2000</td>\n",
              "      <td>354640427.0</td>\n",
              "    </tr>\n",
              "    <tr>\n",
              "      <th>8662</th>\n",
              "      <td>77</td>\n",
              "      <td>3.095625</td>\n",
              "      <td>9000000.0</td>\n",
              "      <td>39723096.0</td>\n",
              "      <td>Memento</td>\n",
              "      <td>Guy Pearce|Carrie-Anne Moss|Joe Pantoliano|Mar...</td>\n",
              "      <td>Christopher Nolan</td>\n",
              "      <td>individual|insulin|tattoo|waitress|amnesia</td>\n",
              "      <td>113</td>\n",
              "      <td>Mystery|Thriller</td>\n",
              "      <td>Summit Entertainment|Newmarket Capital Group|T...</td>\n",
              "      <td>2000-10-11</td>\n",
              "      <td>2144</td>\n",
              "      <td>7.9</td>\n",
              "      <td>2000</td>\n",
              "      <td>30723096.0</td>\n",
              "    </tr>\n",
              "    <tr>\n",
              "      <th>8663</th>\n",
              "      <td>8871</td>\n",
              "      <td>2.977558</td>\n",
              "      <td>123000000.0</td>\n",
              "      <td>345141403.0</td>\n",
              "      <td>How the Grinch Stole Christmas</td>\n",
              "      <td>Jim Carrey|Taylor Momsen|Jeffrey Tambor|Christ...</td>\n",
              "      <td>Ron Howard</td>\n",
              "      <td>holiday|christmas party|new love|santa claus|v...</td>\n",
              "      <td>104</td>\n",
              "      <td>Family|Comedy|Fantasy</td>\n",
              "      <td>Imagine Entertainment|Universal Pictures</td>\n",
              "      <td>2000-11-17</td>\n",
              "      <td>733</td>\n",
              "      <td>6.1</td>\n",
              "      <td>2000</td>\n",
              "      <td>222141403.0</td>\n",
              "    </tr>\n",
              "    <tr>\n",
              "      <th>8664</th>\n",
              "      <td>8358</td>\n",
              "      <td>2.197205</td>\n",
              "      <td>90000000.0</td>\n",
              "      <td>429632142.0</td>\n",
              "      <td>Cast Away</td>\n",
              "      <td>Tom Hanks|Helen Hunt|Chris Noth|Paul Sanchez|L...</td>\n",
              "      <td>Robert Zemeckis</td>\n",
              "      <td>exotic island|suicide attempt|volleyball|lonel...</td>\n",
              "      <td>143</td>\n",
              "      <td>Adventure|Drama</td>\n",
              "      <td>DreamWorks SKG|Twentieth Century Fox Film Corp...</td>\n",
              "      <td>2000-12-22</td>\n",
              "      <td>1854</td>\n",
              "      <td>7.3</td>\n",
              "      <td>2000</td>\n",
              "      <td>339632142.0</td>\n",
              "    </tr>\n",
              "    <tr>\n",
              "      <th>8665</th>\n",
              "      <td>107</td>\n",
              "      <td>2.153361</td>\n",
              "      <td>10000000.0</td>\n",
              "      <td>83557872.0</td>\n",
              "      <td>Snatch</td>\n",
              "      <td>Jason Statham|Brad Pitt|Vinnie Jones|Dennis Fa...</td>\n",
              "      <td>Guy Ritchie</td>\n",
              "      <td>gypsy|bare knuckle boxing|slang|trailer park|pig</td>\n",
              "      <td>103</td>\n",
              "      <td>Thriller|Crime</td>\n",
              "      <td>Columbia Pictures Corporation|SKA Films</td>\n",
              "      <td>2000-09-01</td>\n",
              "      <td>1943</td>\n",
              "      <td>7.5</td>\n",
              "      <td>2000</td>\n",
              "      <td>73557872.0</td>\n",
              "    </tr>\n",
              "  </tbody>\n",
              "</table>\n",
              "</div>"
            ],
            "text/plain": [
              "        id  popularity       budget  ...  vote_average release_year       profit\n",
              "8661    98    4.271452  103000000.0  ...           7.7         2000  354640427.0\n",
              "8662    77    3.095625    9000000.0  ...           7.9         2000   30723096.0\n",
              "8663  8871    2.977558  123000000.0  ...           6.1         2000  222141403.0\n",
              "8664  8358    2.197205   90000000.0  ...           7.3         2000  339632142.0\n",
              "8665   107    2.153361   10000000.0  ...           7.5         2000   73557872.0\n",
              "\n",
              "[5 rows x 16 columns]"
            ]
          },
          "metadata": {
            "tags": []
          },
          "execution_count": 36
        }
      ]
    },
    {
      "cell_type": "code",
      "metadata": {
        "id": "7w4wrMGRYPUe",
        "colab_type": "code",
        "colab": {
          "base_uri": "https://localhost:8080/",
          "height": 34
        },
        "outputId": "874a8cd8-9ee9-43f0-9cf7-af20656affbd"
      },
      "source": [
        "print(\"Average runtime of movies in the year 2000:\",df4['runtime'].mean(),\"minutes\")"
      ],
      "execution_count": 39,
      "outputs": [
        {
          "output_type": "stream",
          "text": [
            "Average runtime of movies in the year 2000: 109.16981132075472 minutes\n"
          ],
          "name": "stdout"
        }
      ]
    },
    {
      "cell_type": "code",
      "metadata": {
        "id": "QGp7hDPxlUpS",
        "colab_type": "code",
        "colab": {}
      },
      "source": [
        ""
      ],
      "execution_count": null,
      "outputs": []
    }
  ]
}